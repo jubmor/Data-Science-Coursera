{
 "cells": [
  {
   "cell_type": "markdown",
   "id": "aef3786c-5f7e-48d0-88e5-ee9c9d16d979",
   "metadata": {},
   "source": [
    "# Data Science Tools and Ecosystem"
   ]
  },
  {
   "cell_type": "markdown",
   "id": "48195c26-b58e-4720-a7bb-3699bc70ec2f",
   "metadata": {},
   "source": [
    "In this notebook, Data Science Tools and Ecosystem are summarized."
   ]
  },
  {
   "cell_type": "markdown",
   "id": "28d68e4c-0995-44a7-85de-818e370b5f82",
   "metadata": {},
   "source": [
    "**Objectives:**\n",
    "- Review Data Science Task Categories and Tools used for each task;\n",
    "- List popular Languages for Data Science;\n",
    "- List popular Libraries for Data Science;\n",
    "- Explain the concept of Application Programming Interfaces;\n",
    "- List useful open data sets."
   ]
  },
  {
   "cell_type": "markdown",
   "id": "9fd20e55-701c-412f-bf1f-41986f74398f",
   "metadata": {},
   "source": [
    "Some of the popular languages that Data Scientists use are:\n",
    "1. Python;\n",
    "2. R;\n",
    "3. SQL;\n",
    "4. Java;\n",
    "5. Scala;\n",
    "6. C++;\n",
    "7. Julia."
   ]
  },
  {
   "cell_type": "markdown",
   "id": "8da2c0ec-e989-43f2-81dc-316d90b5c37d",
   "metadata": {},
   "source": [
    "Some of the commonly used libraries used by Data Scientists include:\n",
    "1. Pandas;\n",
    "2. NumPy;\n",
    "3. Matplotlib;\n",
    "4. TensorFlow."
   ]
  },
  {
   "cell_type": "markdown",
   "id": "1a14354d-da3e-4dc7-94f4-4bd250b2425f",
   "metadata": {},
   "source": [
    "| Data Science Tools|\n",
    "|-----|\n",
    "| Jupyter |\n",
    "| RStudio |\n",
    "| Spyder |\n"
   ]
  },
  {
   "cell_type": "markdown",
   "id": "0a796e80-e998-4beb-9ece-c38b8ffa9d0d",
   "metadata": {},
   "source": [
    "### Below are a few examples of evaluating arithmetic expressions in Python"
   ]
  },
  {
   "cell_type": "code",
   "execution_count": 11,
   "id": "e807ee24-20f5-417c-9e07-974d96426dce",
   "metadata": {},
   "outputs": [
    {
     "data": {
      "text/plain": [
       "17"
      ]
     },
     "execution_count": 11,
     "metadata": {},
     "output_type": "execute_result"
    }
   ],
   "source": [
    "# This a simple arithmetic expression to mutiply then add integers\n",
    "(3*4)+5"
   ]
  },
  {
   "cell_type": "code",
   "execution_count": 13,
   "id": "c1cfb4bf-e4d9-40ec-a34b-93f581d7b00f",
   "metadata": {},
   "outputs": [
    {
     "data": {
      "text/plain": [
       "3.3333333333333335"
      ]
     },
     "execution_count": 13,
     "metadata": {},
     "output_type": "execute_result"
    }
   ],
   "source": [
    "# This will convert 200 minutes to hours by diving by 60\n",
    "200/60"
   ]
  },
  {
   "cell_type": "markdown",
   "id": "840afd8a-7448-4234-b8ed-d7c9dd9cfb85",
   "metadata": {},
   "source": [
    "## Author:\n",
    "Joana Moreira"
   ]
  },
  {
   "cell_type": "code",
   "execution_count": null,
   "id": "476a2e65-4c36-4817-aeec-5ddcf0b91894",
   "metadata": {},
   "outputs": [],
   "source": []
  }
 ],
 "metadata": {
  "kernelspec": {
   "display_name": "Python [conda env:base] *",
   "language": "python",
   "name": "conda-base-py"
  },
  "language_info": {
   "codemirror_mode": {
    "name": "ipython",
    "version": 3
   },
   "file_extension": ".py",
   "mimetype": "text/x-python",
   "name": "python",
   "nbconvert_exporter": "python",
   "pygments_lexer": "ipython3",
   "version": "3.12.3"
  }
 },
 "nbformat": 4,
 "nbformat_minor": 5
}
